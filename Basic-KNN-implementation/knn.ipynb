#KNN implementation by Farooq Ahmed (farooqahmed.tech)
import pandas as pd
import numpy as np
from sklearn.model_selection import train_test_split
from sklearn.preprocessing import StandardScaler
from sklearn.neighbors import KNeighborsClassifier
from sklearn.metrics import accuracy_score, classification_report, confusion_matrix
import matplotlib.pyplot as plt
import seaborn as sns

# Generate a hypothetical companies dataset
np.random.seed(42)

# Features: Number of Employees and Revenue (in millions)
data = {
    'Number_of_Employees': np.random.randint(50, 1000, 100),
    'Revenue': np.random.uniform(10, 500, 100),
}

# Target: Tech (1) or Non-Tech (0)
data['Type'] = np.where((data['Number_of_Employees'] > 500) | (data['Revenue'] > 250), 1, 0)

companies_df = pd.DataFrame(data)

# Explore the data
sns.scatterplot(data=companies_df, x='Number_of_Employees', y='Revenue', hue='Type', palette='viridis')
plt.title('Companies Dataset')
plt.xlabel('Number of Employees')
plt.ylabel('Revenue (in millions)')
plt.show()

# Separate features (X) and labels (y)
X = companies_df[['Number_of_Employees', 'Revenue']]
y = companies_df['Type']

# Split the data into training and testing sets
X_train, X_test, y_train, y_test = train_test_split(X, y, test_size=0.2, random_state=42)

# Standardize the features
scaler = StandardScaler()
X_train_scaled = scaler.fit_transform(X_train)
X_test_scaled = scaler.transform(X_test)

# Create a KNN classifier
knn_classifier = KNeighborsClassifier(n_neighbors=3)

# Train the model
knn_classifier.fit(X_train_scaled, y_train)

# Make predictions on the test set
y_pred = knn_classifier.predict(X_test_scaled)

# Evaluate the model's performance
accuracy = accuracy_score(y_test, y_pred)
print(f'Accuracy on the test set: {accuracy:.2f}')

print('Classification Report:')
print(classification_report(y_test, y_pred))

# Confusion Matrix
cm = confusion_matrix(y_test, y_pred)
plt.figure(figsize=(8, 6))
sns.heatmap(cm, annot=True, fmt='g', cmap='Blues', xticklabels=knn_classifier.classes_, yticklabels=knn_classifier.classes_)
plt.xlabel('Predicted')
plt.ylabel('Actual')
plt.title('Confusion Matrix')
plt.show()
